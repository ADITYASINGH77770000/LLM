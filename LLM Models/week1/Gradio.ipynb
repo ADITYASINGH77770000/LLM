{
 "cells": [
  {
   "cell_type": "code",
   "execution_count": 1,
   "id": "5e07f108-b76f-4d59-8df6-3579252c68e4",
   "metadata": {},
   "outputs": [
    {
     "name": "stderr",
     "output_type": "stream",
     "text": [
      "C:\\Users\\Admin\\anaconda3\\envs\\condaenv\\Lib\\site-packages\\tqdm\\auto.py:21: TqdmWarning: IProgress not found. Please update jupyter and ipywidgets. See https://ipywidgets.readthedocs.io/en/stable/user_install.html\n",
      "  from .autonotebook import tqdm as notebook_tqdm\n"
     ]
    }
   ],
   "source": [
    "import gradio as gr"
   ]
  },
  {
   "cell_type": "code",
   "execution_count": 3,
   "id": "8d854672-8c71-49a7-9e51-feb91f19de37",
   "metadata": {},
   "outputs": [],
   "source": [
    "# here's a simple function \n",
    "\n",
    "def shout(text):\n",
    "    return text.upper()"
   ]
  },
  {
   "cell_type": "code",
   "execution_count": 9,
   "id": "1e47a660-f9a1-4693-b2db-4fbc596a18a2",
   "metadata": {},
   "outputs": [
    {
     "data": {
      "text/plain": [
       "'I AM ADITYA SINGH'"
      ]
     },
     "execution_count": 9,
     "metadata": {},
     "output_type": "execute_result"
    }
   ],
   "source": [
    "shout(\"i am aditya singh\")"
   ]
  },
  {
   "cell_type": "code",
   "execution_count": 4,
   "id": "89d3b7f4-c3ea-49e4-9d6d-297bcdb5ca4e",
   "metadata": {},
   "outputs": [
    {
     "name": "stdout",
     "output_type": "stream",
     "text": [
      "* Running on local URL:  http://127.0.0.1:7860\n",
      "\n",
      "To create a public link, set `share=True` in `launch()`.\n"
     ]
    },
    {
     "data": {
      "text/html": [
       "<div><iframe src=\"http://127.0.0.1:7860/\" width=\"100%\" height=\"500\" allow=\"autoplay; camera; microphone; clipboard-read; clipboard-write;\" frameborder=\"0\" allowfullscreen></iframe></div>"
      ],
      "text/plain": [
       "<IPython.core.display.HTML object>"
      ]
     },
     "metadata": {},
     "output_type": "display_data"
    },
    {
     "data": {
      "text/plain": []
     },
     "execution_count": 4,
     "metadata": {},
     "output_type": "execute_result"
    }
   ],
   "source": [
    "# The simplicity of gradio . this might appear in light mode\n",
    "\n",
    "gr.Interface(fn=shout, inputs=\"textbox\", outputs=\"textbox\").launch()"
   ]
  },
  {
   "cell_type": "code",
   "execution_count": 11,
   "id": "3ea961b4-a3e7-45b9-a61e-2906eeb0b451",
   "metadata": {},
   "outputs": [
    {
     "name": "stdout",
     "output_type": "stream",
     "text": [
      "* Running on local URL:  http://127.0.0.1:7862\n",
      "* Running on public URL: https://24411a70aac26ddd95.gradio.live\n",
      "\n",
      "This share link expires in 72 hours. For free permanent hosting and GPU upgrades, run `gradio deploy` from the terminal in the working directory to deploy to Hugging Face Spaces (https://huggingface.co/spaces)\n"
     ]
    },
    {
     "data": {
      "text/html": [
       "<div><iframe src=\"https://24411a70aac26ddd95.gradio.live\" width=\"100%\" height=\"500\" allow=\"autoplay; camera; microphone; clipboard-read; clipboard-write;\" frameborder=\"0\" allowfullscreen></iframe></div>"
      ],
      "text/plain": [
       "<IPython.core.display.HTML object>"
      ]
     },
     "metadata": {},
     "output_type": "display_data"
    },
    {
     "data": {
      "text/plain": []
     },
     "execution_count": 11,
     "metadata": {},
     "output_type": "execute_result"
    }
   ],
   "source": [
    "# Adding share=True means that it can be accessed publically\n",
    "gr.Interface(fn=shout, inputs=\"textbox\", outputs=\"textbox\", flagging_mode=\"never\").launch(share=True)"
   ]
  },
  {
   "cell_type": "code",
   "execution_count": 12,
   "id": "ba6bf14d-c334-4129-add1-b589a9d8409b",
   "metadata": {},
   "outputs": [
    {
     "name": "stdout",
     "output_type": "stream",
     "text": [
      "* Running on local URL:  http://127.0.0.1:7863\n",
      "\n",
      "To create a public link, set `share=True` in `launch()`.\n"
     ]
    },
    {
     "data": {
      "text/html": [
       "<div><iframe src=\"http://127.0.0.1:7863/\" width=\"100%\" height=\"500\" allow=\"autoplay; camera; microphone; clipboard-read; clipboard-write;\" frameborder=\"0\" allowfullscreen></iframe></div>"
      ],
      "text/plain": [
       "<IPython.core.display.HTML object>"
      ]
     },
     "metadata": {},
     "output_type": "display_data"
    },
    {
     "data": {
      "text/plain": []
     },
     "execution_count": 12,
     "metadata": {},
     "output_type": "execute_result"
    }
   ],
   "source": [
    "# Adding inbrowser=True opens up a new browser window automatically\n",
    "\n",
    "gr.Interface(fn=shout, inputs=\"textbox\", outputs=\"textbox\", flagging_mode=\"never\").launch(inbrowser=True)"
   ]
  },
  {
   "cell_type": "code",
   "execution_count": 13,
   "id": "e45436f9-ef2d-4930-adfb-d3ce7d87d5ad",
   "metadata": {},
   "outputs": [
    {
     "name": "stdout",
     "output_type": "stream",
     "text": [
      "* Running on local URL:  http://127.0.0.1:7864\n",
      "\n",
      "To create a public link, set `share=True` in `launch()`.\n"
     ]
    },
    {
     "data": {
      "text/html": [
       "<div><iframe src=\"http://127.0.0.1:7864/\" width=\"100%\" height=\"500\" allow=\"autoplay; camera; microphone; clipboard-read; clipboard-write;\" frameborder=\"0\" allowfullscreen></iframe></div>"
      ],
      "text/plain": [
       "<IPython.core.display.HTML object>"
      ]
     },
     "metadata": {},
     "output_type": "display_data"
    },
    {
     "data": {
      "text/plain": []
     },
     "execution_count": 13,
     "metadata": {},
     "output_type": "execute_result"
    }
   ],
   "source": [
    "# Inputs and Outputs\n",
    "\n",
    "view = gr.Interface(\n",
    "    fn=shout,\n",
    "    inputs=[gr.Textbox(label=\"Your message:\", lines=6)],\n",
    "    outputs=[gr.Textbox(label=\"Response:\", lines=8)],\n",
    "    flagging_mode=\"never\"\n",
    ")\n",
    "view.launch()"
   ]
  },
  {
   "cell_type": "markdown",
   "id": "667669d1-b45c-4722-9f05-022d0fdbf39e",
   "metadata": {},
   "source": [
    "# Applying Gradio on Gemini"
   ]
  },
  {
   "cell_type": "code",
   "execution_count": 3,
   "id": "d73dbed7-dd24-480c-a784-bc57b46a7375",
   "metadata": {},
   "outputs": [
    {
     "name": "stdout",
     "output_type": "stream",
     "text": [
      "Google API Key exists and begins AIzaSyBz\n"
     ]
    }
   ],
   "source": [
    "import google.generativeai\n",
    "from dotenv import load_dotenv\n",
    "import os\n",
    "\n",
    "# Load environment variables\n",
    "load_dotenv()\n",
    "\n",
    "# Get API Key\n",
    "google_api_key = os.getenv('GEMINI_API_KEY')\n",
    "\n",
    "if google_api_key:\n",
    "    print(f\"Google API Key exists and begins {google_api_key[:8]}\")\n",
    "else:\n",
    "    print(\"Google API Key not set\")\n",
    "\n",
    "# Configure Google Generative AI\n",
    "google.generativeai.configure(api_key=google_api_key)\n",
    "\n",
    "# Define system message\n",
    "system_message = \"You are a helpful assistant\"\n",
    "\n",
    "# Function to communicate with Gemini\n",
    "def message_gemini(user_prompt):\n",
    "    gemini = google.generativeai.GenerativeModel(\n",
    "        model_name='gemini-1.5-flash',\n",
    "        system_instruction=system_message\n",
    "    )\n",
    "    \n",
    "    response = gemini.generate_content(user_prompt)\n",
    "    return response.text\n"
   ]
  },
  {
   "cell_type": "code",
   "execution_count": 4,
   "id": "805a4e50-1e92-4fcf-afb6-ec0128c9b455",
   "metadata": {},
   "outputs": [
    {
     "name": "stdout",
     "output_type": "stream",
     "text": [
      "The capital of France is Paris.\n",
      "\n"
     ]
    }
   ],
   "source": [
    "# Example usage\n",
    "user_prompt = \"What is the capital of France?\"\n",
    "response_text = message_gemini(user_prompt)\n",
    "print(response_text)"
   ]
  },
  {
   "cell_type": "code",
   "execution_count": 6,
   "id": "8f266c3b-da68-4d22-9e98-0f6890d91556",
   "metadata": {},
   "outputs": [
    {
     "name": "stdout",
     "output_type": "stream",
     "text": [
      "* Running on local URL:  http://127.0.0.1:7860\n",
      "\n",
      "To create a public link, set `share=True` in `launch()`.\n"
     ]
    },
    {
     "data": {
      "text/html": [
       "<div><iframe src=\"http://127.0.0.1:7860/\" width=\"100%\" height=\"500\" allow=\"autoplay; camera; microphone; clipboard-read; clipboard-write;\" frameborder=\"0\" allowfullscreen></iframe></div>"
      ],
      "text/plain": [
       "<IPython.core.display.HTML object>"
      ]
     },
     "metadata": {},
     "output_type": "display_data"
    },
    {
     "data": {
      "text/plain": []
     },
     "execution_count": 6,
     "metadata": {},
     "output_type": "execute_result"
    }
   ],
   "source": [
    "# using gradio on gemini with markdown \n",
    "\n",
    "view = gr.Interface(\n",
    "    fn=message_gemini,\n",
    "    inputs=[gr.Textbox(label=\"Your message:\")],\n",
    "    outputs=[gr.Markdown(label=\"Response:\")],\n",
    "    flagging_mode=\"never\"\n",
    ")\n",
    "view.launch()"
   ]
  },
  {
   "cell_type": "code",
   "execution_count": 27,
   "id": "8a022f02-3401-4171-a9c6-ba8f9fc9f060",
   "metadata": {},
   "outputs": [
    {
     "name": "stdout",
     "output_type": "stream",
     "text": [
      "Google API key exists and begins AIzaSyBz\n"
     ]
    }
   ],
   "source": [
    "# Using gradio on gemini with stream andmarkdown function \n",
    "\n",
    "import google.generativeai\n",
    "from dotenv import load_dotenv\n",
    "import os\n",
    "\n",
    "# Load Environent variables\n",
    "load_dotenv()\n",
    "\n",
    "# Get API key\n",
    "google_api_key = os.getenv(\"GEMINI_API_KEY\")\n",
    "\n",
    "if google_api_key:\n",
    "    print(f\"Google API key exists and begins {google_api_key[:8]}\")\n",
    "else:\n",
    "    print(\"Google API Key not set\")\n",
    "\n",
    "# Configure Google Generative AI \n",
    "google.generativeai.configure(api_key=google_api_key)\n",
    "\n",
    "# Define system message\n",
    "system_message = \"your are a helpful assistant\"\n",
    "\n",
    "# Function to Communicate with gemini using streaming\n",
    "def message_gemini_stream(user_prompt):\n",
    "    gemini = google.generativeai.GenerativeModel(\n",
    "        model_name=\"gemini-1.5-flash\" ,\n",
    "        system_instruction=system_message\n",
    "    )\n",
    "\n",
    "    # using streaming for real time response generation \n",
    "    response = gemini.generate_content(user_prompt, stream=True)\n",
    "\n",
    "    collected_text = \"\"  # Store partial responses\n",
    "    for chunk in response:\n",
    "        collected_text += chunk.text  # Append streamed text\n",
    "        yield collected_text  # Return updated text to Gradio"
   ]
  },
  {
   "cell_type": "code",
   "execution_count": 28,
   "id": "44868bbe-7d79-4d25-b3e6-9e08303e792e",
   "metadata": {},
   "outputs": [
    {
     "name": "stdout",
     "output_type": "stream",
     "text": [
      "* Running on local URL:  http://127.0.0.1:7868\n",
      "\n",
      "To create a public link, set `share=True` in `launch()`.\n"
     ]
    },
    {
     "data": {
      "text/html": [
       "<div><iframe src=\"http://127.0.0.1:7868/\" width=\"100%\" height=\"500\" allow=\"autoplay; camera; microphone; clipboard-read; clipboard-write;\" frameborder=\"0\" allowfullscreen></iframe></div>"
      ],
      "text/plain": [
       "<IPython.core.display.HTML object>"
      ]
     },
     "metadata": {},
     "output_type": "display_data"
    },
    {
     "data": {
      "text/plain": []
     },
     "execution_count": 28,
     "metadata": {},
     "output_type": "execute_result"
    }
   ],
   "source": [
    "# using gradio on gemini with markdown \n",
    "\n",
    "view = gr.Interface(\n",
    "    fn=message_gemini_stream,\n",
    "    inputs=[gr.Textbox(label=\"Your message:\")],\n",
    "    outputs=[gr.Markdown(label=\"Response:\")],\n",
    "    flagging_mode=\"never\"\n",
    ")\n",
    "view.launch()"
   ]
  },
  {
   "cell_type": "code",
   "execution_count": 32,
   "id": "34966c11-f62b-41f6-8ea2-e011b995316a",
   "metadata": {},
   "outputs": [
    {
     "name": "stdout",
     "output_type": "stream",
     "text": [
      "Google API Key exists and begins AIzaSyBz\n"
     ]
    }
   ],
   "source": [
    "# Differnt versions of gemini\n",
    "\n",
    "import google.generativeai\n",
    "import gradio as gr\n",
    "from dotenv import load_dotenv\n",
    "import os\n",
    "\n",
    "# Load environment variables\n",
    "load_dotenv()\n",
    "\n",
    "# Get API Key\n",
    "google_api_key = os.getenv('GEMINI_API_KEY')\n",
    "\n",
    "if google_api_key:\n",
    "    print(f\"Google API Key exists and begins {google_api_key[:8]}\")\n",
    "else:\n",
    "    print(\"Google API Key not set\")\n",
    "\n",
    "# Configure Google Generative AI\n",
    "google.generativeai.configure(api_key=google_api_key)\n",
    "\n",
    "# Define system message\n",
    "system_message = \"You are a helpful AI assistant.\"\n",
    "\n",
    "# Function to stream responses inside Gradio \n",
    "def message_gemini_stream_model(user_prompt,model):\n",
    "    try:\n",
    "        #check if the selected model is valid\n",
    "        if model not in [\"gemini-pro\", \"gemini-1.5-pro\",\"gemini-1.5-flash\"]:\n",
    "            yield \"Invalid model slectional! please choose a valid Gemini model.\"\n",
    "            return\n",
    "            \n",
    "        # Intialize the slected Gemini model \n",
    "        gemini = google.generativeai.GenerativeModel(\n",
    "           model_name=model,\n",
    "           system_instruction=system_message\n",
    "        )\n",
    "\n",
    "        # Generate response using streaming \n",
    "        response = gemini.generate_content(user_prompt,stream=True)\n",
    "\n",
    "        collected_text = \"\" #store accumulated response\n",
    "        for chunk in response:\n",
    "            collected_text += chunk.text #Append streamed text\n",
    "            yield collected_text #Yield updated text for gradio\n",
    "\n",
    "    except Exception as e:\n",
    "        yield f\"Error: {str(e)}\"\n"
   ]
  },
  {
   "cell_type": "code",
   "execution_count": 39,
   "id": "2b2fb4b3-0999-4f18-bebf-47cddaddb504",
   "metadata": {},
   "outputs": [
    {
     "name": "stdout",
     "output_type": "stream",
     "text": [
      "* Running on local URL:  http://127.0.0.1:7872\n",
      "\n",
      "To create a public link, set `share=True` in `launch()`.\n"
     ]
    },
    {
     "data": {
      "text/html": [
       "<div><iframe src=\"http://127.0.0.1:7872/\" width=\"100%\" height=\"500\" allow=\"autoplay; camera; microphone; clipboard-read; clipboard-write;\" frameborder=\"0\" allowfullscreen></iframe></div>"
      ],
      "text/plain": [
       "<IPython.core.display.HTML object>"
      ]
     },
     "metadata": {},
     "output_type": "display_data"
    },
    {
     "data": {
      "text/plain": []
     },
     "execution_count": 39,
     "metadata": {},
     "output_type": "execute_result"
    }
   ],
   "source": [
    "# Gradio with dropdown option \n",
    "\n",
    "view = gr.Interface(\n",
    "    fn=message_gemini_stream_model,\n",
    "    inputs=[\n",
    "        gr.Textbox(label=\"Your Message:\"),\n",
    "        gr.Dropdown(choices=[\"gemini-pro\",\"gemini-1.5-pro\",\"gemini-1.5-flash\"], label=\"Select Model\")\n",
    "    ],\n",
    "    outputs=gr.Markdown(label=\"Response:\"),\n",
    "    flagging_mode=\"never\",\n",
    ")\n",
    "view.launch()"
   ]
  },
  {
   "cell_type": "markdown",
   "id": "9916fc5b-f472-483c-9852-cf5b7fe704dd",
   "metadata": {},
   "source": [
    "# Agentic Project Business Brouchre (Gradio) - 1"
   ]
  },
  {
   "cell_type": "code",
   "execution_count": 47,
   "id": "9253b756-573f-4ca1-9c79-485ebed00387",
   "metadata": {},
   "outputs": [],
   "source": [
    "# Agentic project using gradio \n",
    "\n",
    "import requests\n",
    "from bs4 import BeautifulSoup\n",
    "\n",
    "class Website:\n",
    "    def __init__(self, url):\n",
    "        self.url = url\n",
    "        try:\n",
    "            response = requests.get(url)\n",
    "            response.raise_for_status()  # Check for request errors\n",
    "            self.body = response.content\n",
    "            soup = BeautifulSoup(self.body, 'html.parser')\n",
    "            self.title = soup.title.string if soup.title else \"No title found\"\n",
    "            \n",
    "            # Remove unnecessary elements\n",
    "            for irrelevant in soup.body([\"script\", \"style\", \"img\", \"input\"]):\n",
    "                irrelevant.decompose()\n",
    "            \n",
    "            # Get text content\n",
    "            self.text = soup.body.get_text(separator=\"\\n\", strip=True)\n",
    "        except requests.exceptions.RequestException as e:\n",
    "            self.title = \"Error\"\n",
    "            self.text = f\"An error occurred while fetching the page: {e}\"\n",
    "\n",
    "    def get_contents(self):\n",
    "        return f\"Webpage Title:\\n{self.title}\\nWebpage Contents:\\n{self.text}\\n\\n\""
   ]
  },
  {
   "cell_type": "code",
   "execution_count": 48,
   "id": "484d51f3-fdf8-4151-af36-ca9d933e6f74",
   "metadata": {},
   "outputs": [],
   "source": [
    "import google.generativeai\n",
    "\n",
    "# Define system message for Gemini model\n",
    "system_message = \"You are an assistant that analyzes the contents of a company website landing page and creates a short brochure about the company for prospective customers, investors, and recruits. Respond in markdown.\"\n",
    "\n",
    "def stream_brochure(company_name, url, model, gemini_version):\n",
    "    prompt = f\"Please generate a company brochure for {company_name}. Here is their landing page:\\n\"\n",
    "    prompt += Website(url).get_contents()\n",
    "\n",
    "    if model == \"Gemini\":\n",
    "        # Handle Gemini model selection based on version\n",
    "        gemini = google.generativeai.GenerativeModel(\n",
    "            model_name=gemini_version,  # Use the version selected by the user\n",
    "            system_instruction=system_message\n",
    "        )\n",
    "        response = gemini.generate_content(prompt, stream=True)\n",
    "        collected_text = \"\"  # Store accumulated response\n",
    "        for chunk in response:\n",
    "            collected_text += chunk.text  # Append streamed text\n",
    "            yield collected_text  # Yield updated text for Gradio UI\n",
    "    else:\n",
    "        raise ValueError(\"Unknown model or unsupported version\")"
   ]
  },
  {
   "cell_type": "code",
   "execution_count": 52,
   "id": "b2d71856-c1a2-4652-b75b-9a3a3f63685c",
   "metadata": {},
   "outputs": [
    {
     "name": "stdout",
     "output_type": "stream",
     "text": [
      "* Running on local URL:  http://127.0.0.1:7879\n",
      "* Running on public URL: https://0d4d9fadbfebaf3441.gradio.live\n",
      "\n",
      "This share link expires in 72 hours. For free permanent hosting and GPU upgrades, run `gradio deploy` from the terminal in the working directory to deploy to Hugging Face Spaces (https://huggingface.co/spaces)\n"
     ]
    },
    {
     "data": {
      "text/html": [
       "<div><iframe src=\"https://0d4d9fadbfebaf3441.gradio.live\" width=\"100%\" height=\"500\" allow=\"autoplay; camera; microphone; clipboard-read; clipboard-write;\" frameborder=\"0\" allowfullscreen></iframe></div>"
      ],
      "text/plain": [
       "<IPython.core.display.HTML object>"
      ]
     },
     "metadata": {},
     "output_type": "display_data"
    },
    {
     "data": {
      "text/plain": []
     },
     "execution_count": 52,
     "metadata": {},
     "output_type": "execute_result"
    }
   ],
   "source": [
    "import gradio as gr\n",
    "\n",
    "view = gr.Interface(\n",
    "    fn=stream_brochure,\n",
    "    inputs=[\n",
    "        gr.Textbox(label=\"Company name:\"),\n",
    "        gr.Textbox(label=\"Landing page URL including http:// or https://\"),\n",
    "        gr.Dropdown([\"Gemini\"], label=\"Select model\"),  # Only Gemini model available\n",
    "        gr.Dropdown(\n",
    "            choices=[\"gemini-1.5-flash\", \"gemini-pro\", \"gemini-1.5-pro\"], \n",
    "            label=\"Select Gemini version\"\n",
    "        )],  # Added dropdown for selecting Gemini version\n",
    "    outputs=[gr.Markdown(label=\"Brochure:\")],\n",
    "    flagging_mode=\"never\"\n",
    "   \n",
    ")\n",
    "\n",
    "view.launch(share=True)"
   ]
  },
  {
   "cell_type": "markdown",
   "id": "795407c6-f724-47ba-8902-4a785ecdd681",
   "metadata": {},
   "source": [
    "# Apply Gradio on Gemini Chatbot "
   ]
  },
  {
   "cell_type": "code",
   "execution_count": 45,
   "id": "7b309eb8-0917-4958-ba03-aa4d22a951db",
   "metadata": {},
   "outputs": [],
   "source": [
    "# Imports\n",
    "import os\n",
    "from dotenv import load_dotenv\n",
    "import google.generativeai as genai\n",
    "import gradio as gr"
   ]
  },
  {
   "cell_type": "code",
   "execution_count": 46,
   "id": "cfa7c774-eebd-4afb-aa18-8aca71e34498",
   "metadata": {},
   "outputs": [],
   "source": [
    "# Load environment variables\n",
    "load_dotenv()\n",
    "GEMINI_API_KEY = os.getenv('GEMINI_API_KEY')"
   ]
  },
  {
   "cell_type": "code",
   "execution_count": 47,
   "id": "10da8fa8-0e7e-443e-a5ba-5b9f794fc94b",
   "metadata": {},
   "outputs": [
    {
     "name": "stdout",
     "output_type": "stream",
     "text": [
      "GEMINI API Key exists and begins AIzaSyBz\n"
     ]
    }
   ],
   "source": [
    "# Debugging API Key presence\n",
    "if google_api_key:\n",
    "    print(f\"GEMINI API Key exists and begins {google_api_key[:8]}\")\n",
    "else:\n",
    "    print(\"GEMINI API Key not set\")"
   ]
  },
  {
   "cell_type": "code",
   "execution_count": 48,
   "id": "1bbc9854-1fd9-4278-bcf7-39001e1d705a",
   "metadata": {},
   "outputs": [],
   "source": [
    "# Configure Google Generative AI\n",
    "genai.configure(api_key=GEMINI_API_KEY)\n",
    "\n",
    "# Initialize Gemini model\n",
    "MODEL = \"gemini-1.5-flash\"\n",
    "gemini = genai.GenerativeModel(MODEL)\n",
    "\n",
    "# Define system message\n",
    "system_message = \"You are a helpful assistant\""
   ]
  },
  {
   "cell_type": "code",
   "execution_count": 49,
   "id": "0249a6e3-122b-451f-af28-23913d10744d",
   "metadata": {},
   "outputs": [],
   "source": [
    "# Chat function\n",
    "def chat(message, history):\n",
    "    # Convert history into Gemini's expected format\n",
    "    formatted_history = []\n",
    "    \n",
    "    for msg in history:\n",
    "        \n",
    "        # Sort and format each message\n",
    "        if msg[\"role\"] == \"user\":\n",
    "            formatted_history.append({\"role\": \"user\", \"parts\": [msg[\"content\"]]})\n",
    "        else:\n",
    "            formatted_history.append({\"role\": \"model\", \"parts\": [msg[\"content\"]]})\n",
    "    \n",
    "    # Append the current user message\n",
    "    formatted_history.append({\"role\": \"user\", \"parts\": [message]})\n",
    "\n",
    "    # Print out the formatted history and the appended message\n",
    "    print(\"History is:\", history)\n",
    "    print(\"Formatted Messages are:\", formatted_history)\n",
    "\n",
    "    # Generate response with streaming\n",
    "    stream = gemini.generate_content(formatted_history, stream=True)\n",
    "\n",
    "    response = \"\"\n",
    "    for chunk in stream:\n",
    "        content = chunk.text if chunk.text else \"\"\n",
    "        response += content\n",
    "        yield response  # Streaming output to Gradio"
   ]
  },
  {
   "cell_type": "code",
   "execution_count": 50,
   "id": "a41de043-5c30-4eef-ac6d-24c3ec640c41",
   "metadata": {},
   "outputs": [
    {
     "name": "stdout",
     "output_type": "stream",
     "text": [
      "* Running on local URL:  http://127.0.0.1:7871\n",
      "\n",
      "To create a public link, set `share=True` in `launch()`.\n"
     ]
    },
    {
     "data": {
      "text/html": [
       "<div><iframe src=\"http://127.0.0.1:7871/\" width=\"100%\" height=\"500\" allow=\"autoplay; camera; microphone; clipboard-read; clipboard-write;\" frameborder=\"0\" allowfullscreen></iframe></div>"
      ],
      "text/plain": [
       "<IPython.core.display.HTML object>"
      ]
     },
     "metadata": {},
     "output_type": "display_data"
    },
    {
     "data": {
      "text/plain": []
     },
     "execution_count": 50,
     "metadata": {},
     "output_type": "execute_result"
    },
    {
     "name": "stdout",
     "output_type": "stream",
     "text": [
      "History is: []\n",
      "Formatted Messages are: [{'role': 'user', 'parts': ['what is black hole ?']}]\n",
      "History is: [{'role': 'user', 'metadata': None, 'content': 'what is black hole ?', 'options': None}, {'role': 'assistant', 'metadata': None, 'content': \"A black hole is a region of spacetime where gravity is so strong that nothing, not even light, can escape.  It's formed when a massive star collapses at the end of its life.  The immense gravity crushes the star's matter into an incredibly dense point called a singularity.\\n\\nHere's a breakdown of key characteristics:\\n\\n* **Singularity:** This is the point at the center of a black hole where all the mass is concentrated.  Our current understanding of physics breaks down at the singularity; we don't have a complete theory to describe what happens there.\\n\\n* **Event Horizon:** This is the boundary around the singularity.  It's the point of no return.  Anything that crosses the event horizon is inevitably pulled into the singularity. The size of the event horizon is determined by the black hole's mass.\\n\\n* **Gravitational Field:** Black holes have incredibly strong gravitational fields that warp spacetime around them.  This warping affects the paths of light and matter, causing them to bend as they pass nearby.\\n\\n* **Types of Black Holes:**  There are different types of black holes, including:\\n    * **Stellar Black Holes:** These are formed from the collapse of massive stars.\\n    * **Supermassive Black Holes:** These are millions or even billions of times more massive than the Sun and are found at the centers of most galaxies.\\n    * **Intermediate Black Holes:** These are black holes with masses between stellar and supermassive black holes. Their existence is still being investigated.\\n\\n* **Observing Black Holes:** We can't directly see black holes because they don't emit light. However, we can detect their presence through their effects on surrounding matter and light:\\n    * **Gravitational lensing:** Light from distant objects bends as it passes near a black hole.\\n    * **Accretion disks:** Matter swirling around a black hole forms a hot, bright disk that emits X-rays and other radiation.\\n    * **Gravitational waves:** The collision of two black holes creates ripples in spacetime called gravitational waves, which can be detected by specialized observatories.\\n\\n\\nIn short, black holes are fascinating and mysterious objects that represent some of the most extreme environments in the universe, and continue to be a subject of intense research and study.\", 'options': None}]\n",
      "Formatted Messages are: [{'role': 'user', 'parts': ['what is black hole ?']}, {'role': 'model', 'parts': [\"A black hole is a region of spacetime where gravity is so strong that nothing, not even light, can escape.  It's formed when a massive star collapses at the end of its life.  The immense gravity crushes the star's matter into an incredibly dense point called a singularity.\\n\\nHere's a breakdown of key characteristics:\\n\\n* **Singularity:** This is the point at the center of a black hole where all the mass is concentrated.  Our current understanding of physics breaks down at the singularity; we don't have a complete theory to describe what happens there.\\n\\n* **Event Horizon:** This is the boundary around the singularity.  It's the point of no return.  Anything that crosses the event horizon is inevitably pulled into the singularity. The size of the event horizon is determined by the black hole's mass.\\n\\n* **Gravitational Field:** Black holes have incredibly strong gravitational fields that warp spacetime around them.  This warping affects the paths of light and matter, causing them to bend as they pass nearby.\\n\\n* **Types of Black Holes:**  There are different types of black holes, including:\\n    * **Stellar Black Holes:** These are formed from the collapse of massive stars.\\n    * **Supermassive Black Holes:** These are millions or even billions of times more massive than the Sun and are found at the centers of most galaxies.\\n    * **Intermediate Black Holes:** These are black holes with masses between stellar and supermassive black holes. Their existence is still being investigated.\\n\\n* **Observing Black Holes:** We can't directly see black holes because they don't emit light. However, we can detect their presence through their effects on surrounding matter and light:\\n    * **Gravitational lensing:** Light from distant objects bends as it passes near a black hole.\\n    * **Accretion disks:** Matter swirling around a black hole forms a hot, bright disk that emits X-rays and other radiation.\\n    * **Gravitational waves:** The collision of two black holes creates ripples in spacetime called gravitational waves, which can be detected by specialized observatories.\\n\\n\\nIn short, black holes are fascinating and mysterious objects that represent some of the most extreme environments in the universe, and continue to be a subject of intense research and study.\"]}, {'role': 'user', 'parts': ['why it require ?']}]\n"
     ]
    }
   ],
   "source": [
    "# Launch Gradio Chat Interface\n",
    "gr.ChatInterface(fn=chat, type=\"messages\").launch()"
   ]
  },
  {
   "cell_type": "code",
   "execution_count": null,
   "id": "b502f51b-9c13-4475-9d19-373ee896fe28",
   "metadata": {},
   "outputs": [],
   "source": []
  }
 ],
 "metadata": {
  "kernelspec": {
   "display_name": "condaenv",
   "language": "python",
   "name": "condaenv"
  },
  "language_info": {
   "codemirror_mode": {
    "name": "ipython",
    "version": 3
   },
   "file_extension": ".py",
   "mimetype": "text/x-python",
   "name": "python",
   "nbconvert_exporter": "python",
   "pygments_lexer": "ipython3",
   "version": "3.12.7"
  }
 },
 "nbformat": 4,
 "nbformat_minor": 5
}
